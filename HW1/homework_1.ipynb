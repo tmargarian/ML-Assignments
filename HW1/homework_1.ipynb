{
 "cells": [
  {
   "cell_type": "markdown",
   "metadata": {},
   "source": [
    "# Homework 1 - Linear Regression\n",
    "In this homework<br/>\n",
    "-you will be implementing simple linear regression and multiple linear regression<br/>\n",
    "-you will compute R2 and Adjusted R2 scores<br/>\n",
    "You will use linear regression for predicting an outcome as well as determining relevant predictors.<br/>\n",
    "\n",
    "## Scenario\n",
    "\n",
    "Assume you are working as a consultant/analyst at a firm, you are given a dataset containing profit and expenditure information of startups. Your job is to perform simple linear regression and multiple linear regression to predict the profit of the startup and find out the most relevant predictor or combination of predictors in predicting the profit.<br/> \n",
    "\n",
    "## Dataset\n",
    "The dataset you will be using is the \"Startup Dataset\". Use the following link to download the csv file of the dataset:<br/>\n",
    "https://www.kaggle.com/harsh45/startups-dataset<br/>\n",
    "The dataset has 50 rows and 5 columns. <br/>\n",
    "The data represents the profit made by startups in 3 US states. Each row stands for a startup and has information on the expenditure of the startup (R&D spend, Administration, Marketing Spend) and state of the startup.\n",
    "\n"
   ]
  },
  {
   "cell_type": "code",
   "execution_count": 1,
   "metadata": {},
   "outputs": [],
   "source": [
    "import csv\n",
    "import numpy as np\n",
    "import pandas as pd\n",
    "import matplotlib.pyplot as plt\n",
    "from matplotlib import colors\n",
    "from matplotlib.ticker import PercentFormatter\n",
    "from regression_utils import check_r2"
   ]
  },
  {
   "cell_type": "markdown",
   "metadata": {},
   "source": [
    "Download the dataset from the link provided and change the path of the dataset accordingly below."
   ]
  },
  {
   "cell_type": "code",
   "execution_count": 2,
   "metadata": {},
   "outputs": [
    {
     "data": {
      "text/html": [
       "<div>\n",
       "<style scoped>\n",
       "    .dataframe tbody tr th:only-of-type {\n",
       "        vertical-align: middle;\n",
       "    }\n",
       "\n",
       "    .dataframe tbody tr th {\n",
       "        vertical-align: top;\n",
       "    }\n",
       "\n",
       "    .dataframe thead th {\n",
       "        text-align: right;\n",
       "    }\n",
       "</style>\n",
       "<table border=\"1\" class=\"dataframe\">\n",
       "  <thead>\n",
       "    <tr style=\"text-align: right;\">\n",
       "      <th></th>\n",
       "      <th>R&amp;D Spend</th>\n",
       "      <th>Administration</th>\n",
       "      <th>Marketing Spend</th>\n",
       "      <th>State</th>\n",
       "      <th>Profit</th>\n",
       "    </tr>\n",
       "  </thead>\n",
       "  <tbody>\n",
       "    <tr>\n",
       "      <th>0</th>\n",
       "      <td>165349.20</td>\n",
       "      <td>136897.80</td>\n",
       "      <td>471784.10</td>\n",
       "      <td>New York</td>\n",
       "      <td>192261.83</td>\n",
       "    </tr>\n",
       "    <tr>\n",
       "      <th>1</th>\n",
       "      <td>162597.70</td>\n",
       "      <td>151377.59</td>\n",
       "      <td>443898.53</td>\n",
       "      <td>California</td>\n",
       "      <td>191792.06</td>\n",
       "    </tr>\n",
       "    <tr>\n",
       "      <th>2</th>\n",
       "      <td>153441.51</td>\n",
       "      <td>101145.55</td>\n",
       "      <td>407934.54</td>\n",
       "      <td>Florida</td>\n",
       "      <td>191050.39</td>\n",
       "    </tr>\n",
       "    <tr>\n",
       "      <th>3</th>\n",
       "      <td>144372.41</td>\n",
       "      <td>118671.85</td>\n",
       "      <td>383199.62</td>\n",
       "      <td>New York</td>\n",
       "      <td>182901.99</td>\n",
       "    </tr>\n",
       "    <tr>\n",
       "      <th>4</th>\n",
       "      <td>142107.34</td>\n",
       "      <td>91391.77</td>\n",
       "      <td>366168.42</td>\n",
       "      <td>Florida</td>\n",
       "      <td>166187.94</td>\n",
       "    </tr>\n",
       "  </tbody>\n",
       "</table>\n",
       "</div>"
      ],
      "text/plain": [
       "   R&D Spend  Administration  Marketing Spend       State     Profit\n",
       "0  165349.20       136897.80        471784.10    New York  192261.83\n",
       "1  162597.70       151377.59        443898.53  California  191792.06\n",
       "2  153441.51       101145.55        407934.54     Florida  191050.39\n",
       "3  144372.41       118671.85        383199.62    New York  182901.99\n",
       "4  142107.34        91391.77        366168.42     Florida  166187.94"
      ]
     },
     "execution_count": 2,
     "metadata": {},
     "output_type": "execute_result"
    }
   ],
   "source": [
    "dataset_path = \"50_Startups.csv\" # insert the path of the csv\n",
    "df = pd.read_csv(dataset_path)\n",
    "df.head()"
   ]
  },
  {
   "cell_type": "markdown",
   "metadata": {},
   "source": [
    "## Data Exploration\n",
    "We can plot a histogram of the dataframe to understand the distributions of the continuous values.<br/>\n"
   ]
  },
  {
   "cell_type": "code",
   "execution_count": 29,
   "metadata": {},
   "outputs": [
    {
     "data": {
      "image/png": "[encoded data removed]",
      "text/plain": [
       "<Figure size 432x288 with 4 Axes>"
      ]
     },
     "metadata": {
      "needs_background": "light"
     },
     "output_type": "display_data"
    }
   ],
   "source": [
    "### WRITE CODE TO OBTAIN AND DISPLAY HISTOGRAMS ###\n",
    "fig, axs = plt.subplots(2, 2, sharey=False, tight_layout=True)\n",
    "\n",
    "N, bins, patches = axs[0,0].hist(df[\"R&D Spend\"], bins=4)\n",
    "fracs = N / N.max()\n",
    "norm = colors.Normalize(fracs.min(), fracs.max())\n",
    "for thisfrac, thispatch in zip(fracs, patches):\n",
    "    color = plt.cm.viridis(norm(thisfrac))\n",
    "    thispatch.set_facecolor(color)\n",
    "axs[0,0].yaxis.set_major_formatter(PercentFormatter(xmax=df[\"R&D Spend\"].shape[0]))\n",
    "\n",
    "N, bins, patches = axs[0,1].hist(df[\"Administration\"], bins=10)\n",
    "fracs = N / N.max()\n",
    "norm = colors.Normalize(fracs.min(), fracs.max())\n",
    "for thisfrac, thispatch in zip(fracs, patches):\n",
    "    color = plt.cm.viridis(norm(thisfrac))\n",
    "    thispatch.set_facecolor(color)\n",
    "axs[0,1].yaxis.set_major_formatter(PercentFormatter(xmax=df[\"Administration\"].shape[0]))\n",
    "\n",
    "N, bins, patches = axs[1,0].hist(df[\"Marketing Spend\"], bins=10)\n",
    "fracs = N / N.max()\n",
    "norm = colors.Normalize(fracs.min(), fracs.max())\n",
    "for thisfrac, thispatch in zip(fracs, patches):\n",
    "    color = plt.cm.viridis(norm(thisfrac))\n",
    "    thispatch.set_facecolor(color)\n",
    "axs[1,0].yaxis.set_major_formatter(PercentFormatter(xmax=df[\"Marketing Spend\"].shape[0]))\n",
    "\n",
    "N, bins, patches = axs[1,1].hist(df[\"Profit\"], bins=10)\n",
    "fracs = N / N.max()\n",
    "norm = colors.Normalize(fracs.min(), fracs.max())\n",
    "for thisfrac, thispatch in zip(fracs, patches):\n",
    "    color = plt.cm.viridis(norm(thisfrac))\n",
    "    thispatch.set_facecolor(color)\n",
    "axs[1,1].yaxis.set_major_formatter(PercentFormatter(xmax=df[\"Profit\"].shape[0]))"
   ]
  },
  {
   "cell_type": "markdown",
   "metadata": {},
   "source": [
    "Q1. What can you infer from the histograms? <br/>\n",
    "Ans - All continuous values are distributed normally"
   ]
  },
  {
   "cell_type": "markdown",
   "metadata": {},
   "source": [
    "Compute the correlation matrix to get an understanding of the correlation between profit and different kinds of expenditure.<br/>\n",
    "\n"
   ]
  },
  {
   "cell_type": "code",
   "execution_count": 4,
   "metadata": {},
   "outputs": [
    {
     "data": {
      "text/html": [
       "<div>\n",
       "<style scoped>\n",
       "    .dataframe tbody tr th:only-of-type {\n",
       "        vertical-align: middle;\n",
       "    }\n",
       "\n",
       "    .dataframe tbody tr th {\n",
       "        vertical-align: top;\n",
       "    }\n",
       "\n",
       "    .dataframe thead th {\n",
       "        text-align: right;\n",
       "    }\n",
       "</style>\n",
       "<table border=\"1\" class=\"dataframe\">\n",
       "  <thead>\n",
       "    <tr style=\"text-align: right;\">\n",
       "      <th></th>\n",
       "      <th>R&amp;D Spend</th>\n",
       "      <th>Administration</th>\n",
       "      <th>Marketing Spend</th>\n",
       "      <th>Profit</th>\n",
       "    </tr>\n",
       "  </thead>\n",
       "  <tbody>\n",
       "    <tr>\n",
       "      <th>R&amp;D Spend</th>\n",
       "      <td>1.000000</td>\n",
       "      <td>0.241955</td>\n",
       "      <td>0.724248</td>\n",
       "      <td>0.972900</td>\n",
       "    </tr>\n",
       "    <tr>\n",
       "      <th>Administration</th>\n",
       "      <td>0.241955</td>\n",
       "      <td>1.000000</td>\n",
       "      <td>-0.032154</td>\n",
       "      <td>0.200717</td>\n",
       "    </tr>\n",
       "    <tr>\n",
       "      <th>Marketing Spend</th>\n",
       "      <td>0.724248</td>\n",
       "      <td>-0.032154</td>\n",
       "      <td>1.000000</td>\n",
       "      <td>0.747766</td>\n",
       "    </tr>\n",
       "    <tr>\n",
       "      <th>Profit</th>\n",
       "      <td>0.972900</td>\n",
       "      <td>0.200717</td>\n",
       "      <td>0.747766</td>\n",
       "      <td>1.000000</td>\n",
       "    </tr>\n",
       "  </tbody>\n",
       "</table>\n",
       "</div>"
      ],
      "text/plain": [
       "                 R&D Spend  Administration  Marketing Spend    Profit\n",
       "R&D Spend         1.000000        0.241955         0.724248  0.972900\n",
       "Administration    0.241955        1.000000        -0.032154  0.200717\n",
       "Marketing Spend   0.724248       -0.032154         1.000000  0.747766\n",
       "Profit            0.972900        0.200717         0.747766  1.000000"
      ]
     },
     "execution_count": 4,
     "metadata": {},
     "output_type": "execute_result"
    }
   ],
   "source": [
    "### WRITE CODE TO OBTAIN AND DISPLAY CORRELATION MATRIX ###\n",
    "df.corr()"
   ]
  },
  {
   "cell_type": "markdown",
   "metadata": {},
   "source": [
    "Answer the following questions:<br/>\n",
    "\n",
    "Q2. Why is the diagonal made up of 1's in the correlation matrix?<br/>"
   ]
  },
  {
   "cell_type": "markdown",
   "metadata": {},
   "source": [
    "Because:\n",
    "\n",
    "$corr(X,X) = \\frac{cov(X,X)}{\\sigma _{X}\\sigma _{X}}=\\frac{Var(X)}{Var(X)}=1$"
   ]
  },
  {
   "cell_type": "markdown",
   "metadata": {},
   "source": [
    "Q3. Why is the matrix symmetric along diagonal?<br/>"
   ]
  },
  {
   "cell_type": "markdown",
   "metadata": {},
   "source": [
    "Because by definition: \n",
    "\n",
    "$corr(X,Y) = corr(Y,X)$"
   ]
  },
  {
   "cell_type": "markdown",
   "metadata": {},
   "source": [
    "Q4. Looking at the correlation matrix, if you have to choose one predictor for a simple linear regression model with profit as the outcome, which one would you choose and why? <br/>"
   ]
  },
  {
   "cell_type": "markdown",
   "metadata": {},
   "source": [
    "I would choose \"R&D Spend\" because this value has the highest correlation with profit constituting 0.97.\n",
    "It means that 97% of profit can be explained by R&D Spend."
   ]
  },
  {
   "cell_type": "markdown",
   "metadata": {},
   "source": [
    "## Simple Linear Regression\n",
    "\n",
    "Simple linear regression describes the case where we have a single predictor and a single outcome. We are interested in finding the \"line of best fit\" for the data. There are two constraints that guide us to the simple linear regression solution:\n",
    "\n",
    "1. \"line\": characterized by a slope and intercept\n",
    "2. \"best fit\": Minimizes the sum of squares and passes through the mean.\n",
    "\n",
    "More formally, given some set of points (X, Y), we want to find a line of the form <br/>\n",
    "$y = \\beta_1 x + \\beta_0$<br/>\n",
    "\n",
    "That minimizes <br/>\n",
    "$\\sum(y-\\hat{y})^2$<br/>\n",
    "\n",
    "Through a bit of algebra, we find:<br/>\n",
    "$\\hat{\\beta_1} = \\dfrac{\\sum((x_i-\\bar{x})(y_i-\\bar{y}))}{\\sum(x_i - \\bar{x})^2}$<br/>\n",
    "$\\hat{\\beta_0} = \\bar{y} - \\hat{\\beta_1}\\bar{x}$<br/>\n",
    "\n",
    "Please use base python to implement simple_linear_regression() in regression_utils.py<br/>\n",
    "Perform simple linear regression on the dataset with profit as the outcome. Use the predictor you chose in Q4."
   ]
  },
  {
   "cell_type": "code",
   "execution_count": 5,
   "metadata": {},
   "outputs": [],
   "source": [
    "from regression_utils import simple_linear_regression"
   ]
  },
  {
   "cell_type": "code",
   "execution_count": 6,
   "metadata": {},
   "outputs": [],
   "source": [
    "### BELOW ENTER THE NAME OF THE COULMN YOU CHOSE AS A PREDICTOR IN Q4\n",
    "x1 = df[\"R&D Spend\"].values.reshape(-1,1) \n",
    "y1 = df[\"Profit\"].values\n",
    "b1, b0 = simple_linear_regression(x1, y1)"
   ]
  },
  {
   "cell_type": "markdown",
   "metadata": {},
   "source": [
    "Q5. Print the slope and the intercept obtained"
   ]
  },
  {
   "cell_type": "code",
   "execution_count": 7,
   "metadata": {},
   "outputs": [
    {
     "name": "stdout",
     "output_type": "stream",
     "text": [
      "Slope(b1) = [0.85429137]\n",
      "Intercept(b0) = [49032.89914125]\n"
     ]
    }
   ],
   "source": [
    "print(\"Slope(b1) = \" + str(b1))\n",
    "print(\"Intercept(b0) = \" + str(b0))"
   ]
  },
  {
   "cell_type": "markdown",
   "metadata": {},
   "source": [
    "### Prediction"
   ]
  },
  {
   "cell_type": "markdown",
   "metadata": {},
   "source": [
    "Using a model that has R&D Spend as the predictor and Profit as the outcome, make the following predictions.\n",
    "(If you have already implemented the model with R&D as the predictor in the previous question, you don't need to rewrite it. Use the model to make predcitions.)"
   ]
  },
  {
   "cell_type": "code",
   "execution_count": 8,
   "metadata": {},
   "outputs": [
    {
     "data": {
      "text/plain": [
       "array([ 91747.46768819, 113104.75196166, 134462.03623513, 219891.17332901])"
      ]
     },
     "execution_count": 8,
     "metadata": {},
     "output_type": "execute_result"
    }
   ],
   "source": [
    "### CODE FOR THE MODEL AND PREDICTIONS\n",
    "from regression_utils import predict\n",
    "\n",
    "profit_data = np.matrix([50000, 75000, 100000, 200000]).T\n",
    "b = np.array([b0, b1])\n",
    "predict(profit_data, b)"
   ]
  },
  {
   "cell_type": "markdown",
   "metadata": {},
   "source": [
    "Q6. For a company that spends 50k on R&D Spend, what would be the profit?<br/>\n",
    "Ans- 91747.47\n",
    "\n",
    "Q7. For a company that spends 75k on R&D Spend, what would be the profit?<br/>\n",
    "Ans- 113104.75\n",
    "\n",
    "Q8. For a company that spends 100k on R&D Spend, what would be the profit?<br/>\n",
    "Ans- 134462.04\n",
    "\n",
    "Q9. For a company that spends 200k on R&D Spend, what would be the profit?<br/>\n",
    "Ans- 219891.17\n"
   ]
  },
  {
   "cell_type": "markdown",
   "metadata": {},
   "source": [
    "### Standardization of features"
   ]
  },
  {
   "cell_type": "markdown",
   "metadata": {},
   "source": [
    "Feature standardization makes the values of each feature in the data have zero-mean and unit-variance. This method is widely used for normalization in many machine learning algorithms. The general method of calculation is to determine the distribution mean and standard deviation for each feature. Next we subtract the mean from each feature. Then we divide the values of each feature by its standard deviation.\n",
    "\n",
    "$x'$ = ($x$ - $\\bar{x}$)/$\\sigma$ \n",
    "\n",
    "where $x$ is the original feature vector,\n",
    "$\\bar{x}$ is the mean of the feature vector and\n",
    "$\\sigma$ is its standard deviation.\n",
    "\n",
    "This is also called Z-score Normalization. \n",
    "\n",
    "Note down the results after performing Z-score Normalization on R&D feature.\n"
   ]
  },
  {
   "cell_type": "code",
   "execution_count": 9,
   "metadata": {},
   "outputs": [],
   "source": [
    "from sklearn.preprocessing import StandardScaler\n",
    "x1 = df[\"R&D Spend\"].values.reshape(-1,1)\n",
    "scaler = StandardScaler()\n",
    "x1 = scaler.fit_transform(x1)\n",
    "y1 = df[\"Profit\"].values\n",
    "b1, b0 = simple_linear_regression(x1, y1)"
   ]
  },
  {
   "cell_type": "markdown",
   "metadata": {},
   "source": [
    "Q10. Print the slope and the intercept obtained"
   ]
  },
  {
   "cell_type": "code",
   "execution_count": 10,
   "metadata": {},
   "outputs": [
    {
     "name": "stdout",
     "output_type": "stream",
     "text": [
      "Slope(b1) = [38819.78205266]\n",
      "Intercept(b0) = [112012.6392]\n"
     ]
    }
   ],
   "source": [
    "print(\"Slope(b1) = \" + str(b1))\n",
    "print(\"Intercept(b0) = \" + str(b0))"
   ]
  },
  {
   "cell_type": "markdown",
   "metadata": {},
   "source": [
    "Q11. What are the advantages and disadvantages of using Z-score Normalization?<br/>\n",
    "Ans-\n",
    "\n",
    "Q12. In this dataset, do you need to use the Z-score Normalization? Explain.<br/>\n",
    "Ans-"
   ]
  },
  {
   "cell_type": "markdown",
   "metadata": {},
   "source": [
    "## Multiple Linear Regression\n",
    "\n",
    "In the big data era, it is highly unlikely that we are interested in the effect of a single variable on another. To simultaneously account for the effects of multiple variables, we use multiple regression (which accounts for the covariances between predictors).\n",
    "\n",
    "While the algorithmic solution to multiple regression exists, it is easier to conceptualize in terms of linear algebra. The optimal $\\hat{\\beta}$ vector that minimizes the residual sum of squares is:\n",
    "\n",
    "$\\hat{\\beta} = (X^TX)^{-1}X^Ty $\n",
    "\n",
    "\n",
    "Perform multiple linear regression on the dataset with predictors as R&D Spend, Administration, Marketing Spend, State and outcome as Profit.\n",
    "\n",
    "R&D Spend, Administration and Marketing Spend are continuous values whereas State contains discrete values. State can only take on the values New York, California or Florida. We need to perform one-hot encoding on State values for it to be processed in the model. One hot encoding is a process by which categorical variables are converted into a form that could be provided to ML algorithms to do a better job in prediction. The code for performing one-hot encoding is provided below. \n",
    "\n",
    "Please use numpy to implement multiple_regression() in regression_utils.py and use it below.\n"
   ]
  },
  {
   "cell_type": "code",
   "execution_count": 11,
   "metadata": {},
   "outputs": [],
   "source": [
    "from regression_utils import multiple_regression"
   ]
  },
  {
   "cell_type": "code",
   "execution_count": 12,
   "metadata": {},
   "outputs": [],
   "source": [
    "x2 = df[[\"R&D Spend\",\"Administration\",\"Marketing Spend\"]]\n",
    "one_hot = pd.get_dummies(df[[\"State\"]])\n",
    "x2 = pd.concat([x2,one_hot],axis=1)\n",
    "\n",
    "y2 = df[\"Profit\"].values\n",
    "bhat = multiple_regression(x2, y2)"
   ]
  },
  {
   "cell_type": "markdown",
   "metadata": {},
   "source": [
    "Q13. Print the value of bhat"
   ]
  },
  {
   "cell_type": "code",
   "execution_count": 13,
   "metadata": {},
   "outputs": [
    {
     "name": "stdout",
     "output_type": "stream",
     "text": [
      "[-9.80401821e+04  8.11559834e-01 -9.43023282e-02  5.36058566e-02\n",
      "  1.39950388e+05  1.18024002e+05  1.56439816e+05]\n"
     ]
    }
   ],
   "source": [
    "print(bhat)"
   ]
  },
  {
   "cell_type": "markdown",
   "metadata": {},
   "source": [
    "Q14. Is there a problem of multicolinearity? Explain what you can do<br/>\n",
    "Ans-"
   ]
  },
  {
   "cell_type": "markdown",
   "metadata": {},
   "source": [
    "### Goodness of fit\n",
    "\n",
    "A model can always make predictions. But it is important to determine how good the model is.\n",
    "How do we know that our model captures the data well? When evaluating model fit, a good metric is $R^2$, which corresponds to the amount of variance explained by the model. The formula for $R^2$ is the following:\n",
    "\n",
    "$R^2$ = $1 - \\dfrac{RSS}{TSS}$<br/>\n",
    "where:<br/>\n",
    "$RSS = \\Sigma(y - \\hat{y})^2$<br/>\n",
    "$TSS = \\Sigma(y - \\bar{y})^2$<br/>\n",
    "\n",
    "$R^2$ is also one metric for comparing models against each other. It is intuitive to say that the model that explains more variation in the data is a better fit than one that explains less variation. Implement calculate_r2() in regression_utils.py and then run the cells below.\n",
    "\n",
    "Consider 4 Simple Linear Regression models using the 4 predictors and compute R2 for each to compare the models.\n",
    "\n",
    "Fill in the code for calculation of R2 score in calculate_r2 in regression_utils.py"
   ]
  },
  {
   "cell_type": "code",
   "execution_count": 14,
   "metadata": {},
   "outputs": [],
   "source": [
    "from regression_utils import calculate_r2"
   ]
  },
  {
   "cell_type": "markdown",
   "metadata": {},
   "source": [
    "#### R2 score for model with \"R&D Spend\" as predictor and \"Profit\" as outcome"
   ]
  },
  {
   "cell_type": "code",
   "execution_count": 15,
   "metadata": {},
   "outputs": [
    {
     "data": {
      "text/plain": [
       "0.9465353160804393"
      ]
     },
     "execution_count": 15,
     "metadata": {},
     "output_type": "execute_result"
    }
   ],
   "source": [
    "x = df[\"R&D Spend\"].values.reshape(-1,1) \n",
    "y = df[\"Profit\"].values\n",
    "b1, b0 = simple_linear_regression(x, y)\n",
    "b = np.array([b0, b1])\n",
    "yhat = predict(x, b)\n",
    "r2 = calculate_r2(y, yhat)\n",
    "r2"
   ]
  },
  {
   "cell_type": "markdown",
   "metadata": {},
   "source": [
    "#### R2 score for model with \"Marketing Spend\" as predictor and \"Profit\" as outcome"
   ]
  },
  {
   "cell_type": "code",
   "execution_count": 16,
   "metadata": {},
   "outputs": [
    {
     "data": {
      "text/plain": [
       "0.5591535746115517"
      ]
     },
     "execution_count": 16,
     "metadata": {},
     "output_type": "execute_result"
    }
   ],
   "source": [
    "x = df[\"Marketing Spend\"].values.reshape(-1,1) \n",
    "y = df[\"Profit\"].values\n",
    "b1, b0 = simple_linear_regression(x, y)\n",
    "b = np.array([b0, b1])\n",
    "yhat = predict(x, b)\n",
    "r2 = calculate_r2(y, yhat)\n",
    "r2"
   ]
  },
  {
   "cell_type": "markdown",
   "metadata": {},
   "source": [
    "#### R2 score for model with \"Administration\" as predictor and \"Profit\" as outcome"
   ]
  },
  {
   "cell_type": "code",
   "execution_count": 17,
   "metadata": {},
   "outputs": [
    {
     "data": {
      "text/plain": [
       "0.04028714077757245"
      ]
     },
     "execution_count": 17,
     "metadata": {},
     "output_type": "execute_result"
    }
   ],
   "source": [
    "x = df[\"Administration\"].values.reshape(-1,1) \n",
    "y = df[\"Profit\"].values\n",
    "b1, b0 = simple_linear_regression(x, y)\n",
    "b = np.array([b0, b1])\n",
    "yhat = predict(x, b)\n",
    "r2 = calculate_r2(y, yhat)\n",
    "r2"
   ]
  },
  {
   "cell_type": "markdown",
   "metadata": {},
   "source": [
    "#### R2 score for model with \"State\" as predictor and \"Profit\" as outcome"
   ]
  },
  {
   "cell_type": "code",
   "execution_count": 18,
   "metadata": {},
   "outputs": [
    {
     "data": {
      "text/plain": [
       "-1.3655874280107967"
      ]
     },
     "execution_count": 18,
     "metadata": {},
     "output_type": "execute_result"
    }
   ],
   "source": [
    "x = pd.get_dummies(df[[\"State\"]])\n",
    "y = df[\"Profit\"].values\n",
    "bhat = multiple_regression(x, y)\n",
    "yhat = predict(x, bhat)\n",
    "r2 = calculate_r2(y, yhat)\n",
    "r2"
   ]
  },
  {
   "cell_type": "markdown",
   "metadata": {},
   "source": [
    "Now, add features one by one and compute R2 score of different models"
   ]
  },
  {
   "cell_type": "markdown",
   "metadata": {},
   "source": [
    "#### R2 score for model with \"R&D Spend\" as predictor and \"Profit\" as outcome"
   ]
  },
  {
   "cell_type": "code",
   "execution_count": 19,
   "metadata": {},
   "outputs": [
    {
     "data": {
      "text/plain": [
       "0.9465353160804393"
      ]
     },
     "execution_count": 19,
     "metadata": {},
     "output_type": "execute_result"
    }
   ],
   "source": [
    "x = df[\"R&D Spend\"].values.reshape(-1,1) \n",
    "y = df[\"Profit\"].values\n",
    "b1, b0 = simple_linear_regression(x, y)\n",
    "b = np.array([b0, b1])\n",
    "yhat = predict(x, b)\n",
    "r2 = calculate_r2(y, yhat)\n",
    "r2"
   ]
  },
  {
   "cell_type": "markdown",
   "metadata": {},
   "source": [
    "#### R2 score for model with \"R&D Spend\",\"Marketing Spend\" as predictors and \"Profit\" as outcome"
   ]
  },
  {
   "cell_type": "code",
   "execution_count": 20,
   "metadata": {},
   "outputs": [
    {
     "data": {
      "text/plain": [
       "0.9504503015559763"
      ]
     },
     "execution_count": 20,
     "metadata": {},
     "output_type": "execute_result"
    }
   ],
   "source": [
    "x = df[[\"R&D Spend\",\"Marketing Spend\"]]\n",
    "y = df[\"Profit\"].values\n",
    "bhat = multiple_regression(x, y)\n",
    "yhat = predict(x, bhat)\n",
    "r2 = calculate_r2(y, yhat)\n",
    "r2"
   ]
  },
  {
   "cell_type": "markdown",
   "metadata": {},
   "source": [
    "#### R2 score for model with \"R&D Spend\",\"Marketing Spend\",\"Administration\" as predictors and \"Profit\" as outcome"
   ]
  },
  {
   "cell_type": "code",
   "execution_count": 21,
   "metadata": {},
   "outputs": [
    {
     "data": {
      "text/plain": [
       "0.9507459940683246"
      ]
     },
     "execution_count": 21,
     "metadata": {},
     "output_type": "execute_result"
    }
   ],
   "source": [
    "x = df[[\"R&D Spend\",\"Marketing Spend\", \"Administration\",]]\n",
    "y = df[\"Profit\"].values\n",
    "bhat = multiple_regression(x, y)\n",
    "yhat = predict(x, bhat)\n",
    "r2 = calculate_r2(y, yhat)\n",
    "r2"
   ]
  },
  {
   "cell_type": "markdown",
   "metadata": {},
   "source": [
    "#### R2 score for model with \"R&D Spend\",\"Marketing Spend\",\"Administration\",\"State\" as predictors and \"Profit\" as outcome"
   ]
  },
  {
   "cell_type": "code",
   "execution_count": 22,
   "metadata": {},
   "outputs": [
    {
     "data": {
      "text/plain": [
       "-17.41595859528366"
      ]
     },
     "execution_count": 22,
     "metadata": {},
     "output_type": "execute_result"
    }
   ],
   "source": [
    "x = df[[\"R&D Spend\",\"Marketing Spend\", \"Administration\"]]\n",
    "one_hot = pd.get_dummies(df[[\"State\"]])\n",
    "x = pd.concat([x,one_hot],axis=1)\n",
    "\n",
    "y = df[\"Profit\"].values\n",
    "\n",
    "bhat = multiple_regression(x, y)\n",
    "yhat = predict(x, bhat)\n",
    "\n",
    "r2 = calculate_r2(y,yhat)\n",
    "r2"
   ]
  },
  {
   "cell_type": "markdown",
   "metadata": {},
   "source": [
    "Wait a minute, $R^2$ is always going up as we keep adding features? \n",
    "\n",
    "This is one drawback of only using $R^2$ to evaluate your model. Adding predictors will always improve the predictive ability of your model, though it may not be meaningful.\n",
    "\n",
    "That is to say, we are not necessarily interested in making a perfect prediciton of our data. If we were, we would always use all of the predictors available. Rather, we are interested in the most predictive features, in the hopes that we can create a simpler model that performs nearly as well.\n",
    "\n",
    "This is why we consider another metric, Adjusted R2.\n",
    "The adjusted R-squared increases only if the new term improves the model more than would be expected by chance.\n",
    "Using Adjusted R2 score, please give the most relevant combination of predictors in determining the profit of the startup.\n",
    "\n",
    "\n",
    "$AdjustedR^2$ = $1 - \\dfrac{(1-R^2)(n-1)}{(n-k-1)}$<br/>\n",
    "where:<br/>\n",
    "n = number of samples<br/>\n",
    "k = number of features\n",
    "\n",
    "Fill in the code for calculation of adjusted R2 score in calculate_adjusted_r2 in regression_utils.py"
   ]
  },
  {
   "cell_type": "code",
   "execution_count": 23,
   "metadata": {},
   "outputs": [],
   "source": [
    "from regression_utils import calculate_adjusted_r2"
   ]
  },
  {
   "cell_type": "markdown",
   "metadata": {},
   "source": [
    "#### Adjusted R2 score for model with \"R&D Spend\" as predictor and \"Profit\" as outcome"
   ]
  },
  {
   "cell_type": "code",
   "execution_count": 24,
   "metadata": {},
   "outputs": [
    {
     "data": {
      "text/plain": [
       "0.8937609609330699"
      ]
     },
     "execution_count": 24,
     "metadata": {},
     "output_type": "execute_result"
    }
   ],
   "source": [
    "x = df[\"R&D Spend\"].values.reshape(-1,1) \n",
    "y = df[\"Profit\"].values\n",
    "b1, b0 = simple_linear_regression(x, y)\n",
    "b = np.array([b0, b1])\n",
    "yhat = predict(x, b)\n",
    "adj_r2 = calculate_adjusted_r2(y, yhat,1)\n",
    "adj_r2"
   ]
  },
  {
   "cell_type": "markdown",
   "metadata": {},
   "source": [
    "#### Adjusted R2 score for model with \"R&D Spend\",\"Marketing Spend\" as predictors and \"Profit\" as outcome"
   ]
  },
  {
   "cell_type": "code",
   "execution_count": 25,
   "metadata": {},
   "outputs": [
    {
     "data": {
      "text/plain": [
       "0.8992432555460526"
      ]
     },
     "execution_count": 25,
     "metadata": {},
     "output_type": "execute_result"
    }
   ],
   "source": [
    "x = df[[\"R&D Spend\",\"Marketing Spend\"]]\n",
    "y = df[\"Profit\"].values\n",
    "bhat = multiple_regression(x, y)\n",
    "yhat = predict(x, bhat)\n",
    "adj_r2 = calculate_adjusted_r2(y, yhat, 2)\n",
    "adj_r2"
   ]
  },
  {
   "cell_type": "markdown",
   "metadata": {},
   "source": [
    "#### Adjusted R2 score for model with \"R&D Spend\",\"Marketing Spend\",\"Administration\" as predictors and \"Profit\" as outcome"
   ]
  },
  {
   "cell_type": "code",
   "execution_count": 26,
   "metadata": {},
   "outputs": [
    {
     "data": {
      "text/plain": [
       "0.8976517242741603"
      ]
     },
     "execution_count": 26,
     "metadata": {},
     "output_type": "execute_result"
    }
   ],
   "source": [
    "x = df[[\"R&D Spend\",\"Marketing Spend\", \"Administration\"]]\n",
    "y = df[\"Profit\"].values\n",
    "bhat = multiple_regression(x, y)\n",
    "yhat = predict(x, bhat)\n",
    "adj_r2 = calculate_adjusted_r2(y, yhat, 3)\n",
    "adj_r2"
   ]
  },
  {
   "cell_type": "markdown",
   "metadata": {},
   "source": [
    "#### Adjusted R2 score for model with \"R&D Spend\",\"Marketing Spend\",\"Administration\",\"State\" as predictors and \"Profit\" as outcome\n"
   ]
  },
  {
   "cell_type": "code",
   "execution_count": 27,
   "metadata": {},
   "outputs": [
    {
     "data": {
      "text/plain": [
       "345.49918781021165"
      ]
     },
     "execution_count": 27,
     "metadata": {},
     "output_type": "execute_result"
    }
   ],
   "source": [
    "x = df[[\"R&D Spend\",\"Marketing Spend\", \"Administration\"]]\n",
    "one_hot = pd.get_dummies(df[[\"State\"]])\n",
    "x = pd.concat([x,one_hot],axis=1)\n",
    "\n",
    "y = df[\"Profit\"].values\n",
    "\n",
    "bhat = multiple_regression(x, y)\n",
    "yhat = predict(x, bhat)\n",
    "\n",
    "adj_r2 = calculate_adjusted_r2(y, yhat, 6)\n",
    "adj_r2"
   ]
  },
  {
   "cell_type": "markdown",
   "metadata": {},
   "source": [
    "Q15. Using the above Adjusted R2 scores, the combination with the highest Adjusted R2 score is associated with the model built with most relevant predictors. Note down the most relevant combination of predictors in predicting the profit of the startup."
   ]
  },
  {
   "cell_type": "markdown",
   "metadata": {},
   "source": [
    "Ans - "
   ]
  }
 ],
 "metadata": {
  "kernelspec": {
   "display_name": "Python 3",
   "language": "python",
   "name": "python3"
  },
  "language_info": {
   "codemirror_mode": {
    "name": "ipython",
    "version": 3
   },
   "file_extension": ".py",
   "mimetype": "text/x-python",
   "name": "python",
   "nbconvert_exporter": "python",
   "pygments_lexer": "ipython3",
   "version": "3.7.5"
  }
 },
 "nbformat": 4,
 "nbformat_minor": 4
}
